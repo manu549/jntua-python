{
  "nbformat": 4,
  "nbformat_minor": 0,
  "metadata": {
    "colab": {
      "name": "DAY9(30-01-2020).ipynb",
      "provenance": [],
      "authorship_tag": "ABX9TyMxB5gZdBMUH5K65NyOofOS",
      "include_colab_link": true
    },
    "kernelspec": {
      "name": "python3",
      "display_name": "Python 3"
    }
  },
  "cells": [
    {
      "cell_type": "markdown",
      "metadata": {
        "id": "view-in-github",
        "colab_type": "text"
      },
      "source": [
        "<a href=\"https://colab.research.google.com/github/manu549/jntua-python/blob/master/DAY9(30_01_2020).ipynb\" target=\"_parent\"><img src=\"https://colab.research.google.com/assets/colab-badge.svg\" alt=\"Open In Colab\"/></a>"
      ]
    },
    {
      "cell_type": "code",
      "metadata": {
        "id": "mlkZwOK570Oz",
        "colab_type": "code",
        "colab": {}
      },
      "source": [
        ""
      ],
      "execution_count": 0,
      "outputs": []
    },
    {
      "cell_type": "markdown",
      "metadata": {
        "id": "YijMwiFC9lI8",
        "colab_type": "text"
      },
      "source": [
        "#Markdown\n",
        "##Markdown\n",
        "###Markdown\n",
        "####Markdown\n",
        "#####Markdown\n",
        "######Markdown\n"
      ]
    },
    {
      "cell_type": "markdown",
      "metadata": {
        "id": "r3jwTxtP-dyv",
        "colab_type": "text"
      },
      "source": [
        "**Points**\n",
        "*Points*\n",
        "***Points***\n",
        "#***Points***"
      ]
    },
    {
      "cell_type": "code",
      "metadata": {
        "id": "8gqEoPaR_2Fh",
        "colab_type": "code",
        "colab": {
          "base_uri": "https://localhost:8080/",
          "height": 35
        },
        "outputId": "90a3925c-8ffc-45c6-dce0-09bce48a47b0"
      },
      "source": [
        "print(\"Hello\")\n"
      ],
      "execution_count": 3,
      "outputs": [
        {
          "output_type": "stream",
          "text": [
            "Hello\n"
          ],
          "name": "stdout"
        }
      ]
    },
    {
      "cell_type": "code",
      "metadata": {
        "id": "5820fFASDK1U",
        "colab_type": "code",
        "colab": {
          "base_uri": "https://localhost:8080/",
          "height": 35
        },
        "outputId": "311bc808-80d4-401c-f159-d996e12418a2"
      },
      "source": [
        "\n",
        "print(\"hello\",\"world\")"
      ],
      "execution_count": 4,
      "outputs": [
        {
          "output_type": "stream",
          "text": [
            "hello world\n"
          ],
          "name": "stdout"
        }
      ]
    },
    {
      "cell_type": "code",
      "metadata": {
        "id": "s5j183TdIRSh",
        "colab_type": "code",
        "colab": {
          "base_uri": "https://localhost:8080/",
          "height": 35
        },
        "outputId": "bd1d77ba-478b-470a-96da-96322848a828"
      },
      "source": [
        "print(\"hello,Jntua\",\"|||\",\"Cse\",\"|||\",\"cHEMICAL\",\"|||\",\"MCA\")"
      ],
      "execution_count": 5,
      "outputs": [
        {
          "output_type": "stream",
          "text": [
            "hello,Jntua ||| Cse ||| cHEMICAL ||| MCA\n"
          ],
          "name": "stdout"
        }
      ]
    },
    {
      "cell_type": "markdown",
      "metadata": {
        "id": "-u-0m9IwI5Aa",
        "colab_type": "text"
      },
      "source": [
        "#ASSIGNMENT\n"
      ]
    },
    {
      "cell_type": "code",
      "metadata": {
        "id": "5LZQvJJbI9Fv",
        "colab_type": "code",
        "colab": {
          "base_uri": "https://localhost:8080/",
          "height": 69
        },
        "outputId": "8bac6caf-d2eb-47f0-e15c-18d8d96d5cb3"
      },
      "source": [
        "n1=100 #single variable assignment\n",
        "print(n1)\n",
        "a=b=c=10 #multiple variable assignment of same value\n",
        "print(a,b,c)\n",
        "d,e,f=100,200,300 #multiple variable assignment of different value\n",
        "print(d,e,f)\n"
      ],
      "execution_count": 10,
      "outputs": [
        {
          "output_type": "stream",
          "text": [
            "100\n",
            "10 10 10\n",
            "100 200 300\n"
          ],
          "name": "stdout"
        }
      ]
    },
    {
      "cell_type": "markdown",
      "metadata": {
        "id": "Yc0Ec8R3KduA",
        "colab_type": "text"
      },
      "source": [
        "#Data Types and conversions\n",
        "* int\n",
        "* float\n",
        "* string\n",
        "\n"
      ]
    },
    {
      "cell_type": "code",
      "metadata": {
        "id": "dmio5-VoK1oH",
        "colab_type": "code",
        "colab": {
          "base_uri": "https://localhost:8080/",
          "height": 121
        },
        "outputId": "87c2217f-753e-4c2b-ea4e-06ae30f1c310"
      },
      "source": [
        "#data types\n",
        "i=100\n",
        "f=10.2\n",
        "s=\"python\"\n",
        "print(type(i),type(f),type(s))\n",
        "#conversions\n",
        "i=111\n",
        "print(i)\n",
        "si=str(i)\n",
        "print(type(si))\n",
        "print(si)\n",
        "fs=float(i)\n",
        "print(type(fs))\n",
        "print(fs)"
      ],
      "execution_count": 18,
      "outputs": [
        {
          "output_type": "stream",
          "text": [
            "<class 'int'> <class 'float'> <class 'str'>\n",
            "111\n",
            "<class 'str'>\n",
            "111\n",
            "<class 'float'>\n",
            "111.0\n"
          ],
          "name": "stdout"
        }
      ]
    },
    {
      "cell_type": "markdown",
      "metadata": {
        "id": "BABPMjb-AtQ-",
        "colab_type": "text"
      },
      "source": [
        "***Adding links to Markdown***\n",
        "\n",
        "[Wikipedia](https://www.wikipedia.org/)"
      ]
    },
    {
      "cell_type": "code",
      "metadata": {
        "id": "YI0nCOb0MuiG",
        "colab_type": "code",
        "colab": {
          "base_uri": "https://localhost:8080/",
          "height": 35
        },
        "outputId": "b2499f76-4592-4571-9b14-8191b487f259"
      },
      "source": [
        "#length\n",
        "a=123456\n",
        "print(len(str(a)))"
      ],
      "execution_count": 20,
      "outputs": [
        {
          "output_type": "stream",
          "text": [
            "6\n"
          ],
          "name": "stdout"
        }
      ]
    },
    {
      "cell_type": "markdown",
      "metadata": {
        "id": "idT2Y-kvBp4c",
        "colab_type": "text"
      },
      "source": [
        "###Inserting image\n",
        "![text](data:image/jpeg;base64,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)"
      ]
    },
    {
      "cell_type": "code",
      "metadata": {
        "id": "UQR4OqsFNi_m",
        "colab_type": "code",
        "colab": {}
      },
      "source": [
        ""
      ],
      "execution_count": 0,
      "outputs": []
    },
    {
      "cell_type": "markdown",
      "metadata": {
        "id": "X9EGUQzfNawm",
        "colab_type": "text"
      },
      "source": [
        "#Reading input from user using 'Input' function"
      ]
    },
    {
      "cell_type": "code",
      "metadata": {
        "id": "phAYQuRVNmd1",
        "colab_type": "code",
        "colab": {
          "base_uri": "https://localhost:8080/",
          "height": 121
        },
        "outputId": "12f4c189-0ada-4852-b441-1956b129c62e"
      },
      "source": [
        "name=int(input(\"Enter your name : \"))\n",
        "print(name)\n",
        "print(type(name))\n",
        "\n",
        "name=input(\"Enter your name : \")\n",
        "print(name)\n",
        "print(type(name))"
      ],
      "execution_count": 25,
      "outputs": [
        {
          "output_type": "stream",
          "text": [
            "Enter your name : 1\n",
            "1\n",
            "<class 'int'>\n",
            "Enter your name : 1\n",
            "1\n",
            "<class 'str'>\n"
          ],
          "name": "stdout"
        }
      ]
    },
    {
      "cell_type": "markdown",
      "metadata": {
        "id": "Waw-MxcjPB3P",
        "colab_type": "text"
      },
      "source": [
        "#Operators\n",
        "* Operator is a symbol used to perform a specific kind of operation\n",
        "##Arithmetic Operator\n",
        "* +\n",
        "* -\n",
        "* *\n",
        "* /\n",
        "* %     -->modulus\n",
        "* //    -->floor\n",
        "* **    -->power"
      ]
    },
    {
      "cell_type": "code",
      "metadata": {
        "id": "PfFhAlFxPG32",
        "colab_type": "code",
        "colab": {
          "base_uri": "https://localhost:8080/",
          "height": 139
        },
        "outputId": "6f6db16f-5bfe-4036-fd38-e24931029f0c"
      },
      "source": [
        "a=1234\n",
        "print(a+10)\n",
        "print(a-10)\n",
        "print(a*10)\n",
        "print(a/10)\n",
        "print(a%10)\n",
        "print(a//10)\n",
        "print(a**10)"
      ],
      "execution_count": 28,
      "outputs": [
        {
          "output_type": "stream",
          "text": [
            "1244\n",
            "1224\n",
            "12340\n",
            "123.4\n",
            "4\n",
            "123\n",
            "8187505353567209228244052427776\n"
          ],
          "name": "stdout"
        }
      ]
    },
    {
      "cell_type": "markdown",
      "metadata": {
        "id": "kWZwRV9-R6XK",
        "colab_type": "text"
      },
      "source": [
        "#Relational Operator\n",
        "* =\n",
        "* ==\n",
        "* !=\n",
        "* <\n",
        "* (>)\n",
        "* <=\n",
        "* (>=)"
      ]
    },
    {
      "cell_type": "code",
      "metadata": {
        "id": "LZzHMy_eQCkr",
        "colab_type": "code",
        "colab": {
          "base_uri": "https://localhost:8080/",
          "height": 35
        },
        "outputId": "d8c83f31-a35e-4fa6-b991-9a7ef58eb4a0"
      },
      "source": [
        "a1=10\n",
        "x=a1>15\n",
        "print(x)"
      ],
      "execution_count": 30,
      "outputs": [
        {
          "output_type": "stream",
          "text": [
            "False\n"
          ],
          "name": "stdout"
        }
      ]
    },
    {
      "cell_type": "code",
      "metadata": {
        "id": "R0FtTA8WSnts",
        "colab_type": "code",
        "colab": {}
      },
      "source": [
        ""
      ],
      "execution_count": 0,
      "outputs": []
    },
    {
      "cell_type": "markdown",
      "metadata": {
        "id": "lnwIcU43S47Y",
        "colab_type": "text"
      },
      "source": [
        "#Logical Operators\n",
        "* and\n",
        "* or\n",
        "* not(!= can also be used)"
      ]
    },
    {
      "cell_type": "code",
      "metadata": {
        "id": "8VfXFSITTF06",
        "colab_type": "code",
        "colab": {
          "base_uri": "https://localhost:8080/",
          "height": 35
        },
        "outputId": "73ec4d45-fbec-4272-bada-54203faba862"
      },
      "source": [
        "i=100\n",
        "\n",
        "a1=i>15 and i<800\n",
        "a2=i>15 or i>800\n",
        "a3=i!=100\n",
        "i=not 100\n",
        "print(a1,a2,a3,i)"
      ],
      "execution_count": 35,
      "outputs": [
        {
          "output_type": "stream",
          "text": [
            "True True False False\n"
          ],
          "name": "stdout"
        }
      ]
    },
    {
      "cell_type": "code",
      "metadata": {
        "id": "Nftvz7p7TduP",
        "colab_type": "code",
        "colab": {}
      },
      "source": [
        ""
      ],
      "execution_count": 0,
      "outputs": []
    },
    {
      "cell_type": "markdown",
      "metadata": {
        "id": "vOJRgi2XUlAU",
        "colab_type": "text"
      },
      "source": [
        "#Control Flow Statements\n",
        "* Conditional statements\n",
        "* Looping statements"
      ]
    },
    {
      "cell_type": "code",
      "metadata": {
        "id": "EzIJuPrtUxkt",
        "colab_type": "code",
        "colab": {}
      },
      "source": [
        ""
      ],
      "execution_count": 0,
      "outputs": []
    },
    {
      "cell_type": "markdown",
      "metadata": {
        "id": "3paTjMwIU-uk",
        "colab_type": "text"
      },
      "source": [
        "* **Conditional statements** :\n",
        " #####  1.If-Else statements :\n",
        "           Syntax :\n",
        "\n",
        "            if Boolean_condition\n",
        "                statements\n",
        "            else\n",
        "                statements\n",
        "      "
      ]
    },
    {
      "cell_type": "code",
      "metadata": {
        "id": "cYVBvVWJVweC",
        "colab_type": "code",
        "colab": {
          "base_uri": "https://localhost:8080/",
          "height": 52
        },
        "outputId": "b57638f6-5cd6-4b96-96da-b6fa2efe7af8"
      },
      "source": [
        "#To check given number is even or not\n",
        "n=int(input(\"Enter a number : \"))\n",
        "if n%2==0:\n",
        " print(n,\" is even number\")\n",
        "else: \n",
        "  print(n,\" is odd number\")"
      ],
      "execution_count": 47,
      "outputs": [
        {
          "output_type": "stream",
          "text": [
            "Enter a number : 3\n",
            "3  is odd number\n"
          ],
          "name": "stdout"
        }
      ]
    },
    {
      "cell_type": "code",
      "metadata": {
        "id": "zQiKzHi6W3EB",
        "colab_type": "code",
        "colab": {
          "base_uri": "https://localhost:8080/",
          "height": 52
        },
        "outputId": "ba9db1ad-94ba-40e7-f129-6b05d5992e23"
      },
      "source": [
        "#Check given number is perfectly multiples of 3 and 5\n",
        "n=int(input(\"Enter a number : \"))\n",
        "if n%3==0 and n%5==0:\n",
        "  print(n,\" is perfect multiple\")\n",
        "else:\n",
        "  print(n,\" is not a perfect multiple\")"
      ],
      "execution_count": 46,
      "outputs": [
        {
          "output_type": "stream",
          "text": [
            "Enter a number : 30\n",
            "30  is perfect multiple\n"
          ],
          "name": "stdout"
        }
      ]
    },
    {
      "cell_type": "code",
      "metadata": {
        "id": "8A_IWZrjZaKR",
        "colab_type": "code",
        "colab": {
          "base_uri": "https://localhost:8080/",
          "height": 52
        },
        "outputId": "be857408-0576-418e-e31a-98b7c74a39f2"
      },
      "source": [
        "#Check given number is positive,negative or zero\n",
        "n=int(input(\"Enter a number : \"))\n",
        "if n>0:\n",
        "  print(\"positive\")\n",
        "elif (n==0):\n",
        "  print(\"Zero\")\n",
        "else:\n",
        "  print(\"Negative\")\n"
      ],
      "execution_count": 50,
      "outputs": [
        {
          "output_type": "stream",
          "text": [
            "Enter a number : 2\n",
            "positive\n"
          ],
          "name": "stdout"
        }
      ]
    },
    {
      "cell_type": "code",
      "metadata": {
        "id": "fcXSX_5gWSZZ",
        "colab_type": "code",
        "colab": {
          "base_uri": "https://localhost:8080/",
          "height": 69
        },
        "outputId": "015487c5-ecda-4dd9-8878-e77ce78d5223"
      },
      "source": [
        "#Largest number\n",
        "n1=int(input(\"Enter 1st number :\"))\n",
        "n2=int(input(\"Enter 2nd number :\"))\n",
        "\n",
        "if n1>n2:\n",
        "  print(n1,\" n1 is largest\")\n",
        "else:\n",
        "  print(n2,\"n2 is largest\")"
      ],
      "execution_count": 54,
      "outputs": [
        {
          "output_type": "stream",
          "text": [
            "Enter 1st number :2\n",
            "Enter 2nd number :3\n",
            "3 n2 is largest\n"
          ],
          "name": "stdout"
        }
      ]
    },
    {
      "cell_type": "code",
      "metadata": {
        "id": "4LB04DC3aM80",
        "colab_type": "code",
        "colab": {
          "base_uri": "https://localhost:8080/",
          "height": 87
        },
        "outputId": "1963a8ed-9754-426a-9565-9c7be6d3ec22"
      },
      "source": [
        "#largest of three numbers\n",
        "n1=int(input(\"Enter 1st number :\"))\n",
        "n2=int(input(\"Enter 2nd number :\"))\n",
        "n3=int(input(\"Enter 3rd number :\"))\n",
        "if n1>n2 and n1>n3:\n",
        "  print(\"n1 is largest\")\n",
        "elif n2>n3:\n",
        "  print(\"n2 is largest\")\n",
        "else:\n",
        "  print(\"n3 is largest\")\n",
        "\n"
      ],
      "execution_count": 56,
      "outputs": [
        {
          "output_type": "stream",
          "text": [
            "Enter 1st number :-1\n",
            "Enter 2nd number :3\n",
            "Enter 3rd number :0\n",
            "n2 is largest\n"
          ],
          "name": "stdout"
        }
      ]
    },
    {
      "cell_type": "code",
      "metadata": {
        "id": "NQSixLsSbMWt",
        "colab_type": "code",
        "colab": {}
      },
      "source": [
        "#palindrome\n",
        "n=int(input(\"Enter a number : \"))\n",
        "sum=0\n",
        "temp=n\n",
        "rem=temp%10\n",
        "sum\n"
      ],
      "execution_count": 0,
      "outputs": []
    },
    {
      "cell_type": "code",
      "metadata": {
        "id": "OW41C7WjdVBU",
        "colab_type": "code",
        "colab": {
          "base_uri": "https://localhost:8080/",
          "height": 52
        },
        "outputId": "96010685-10d6-4655-cc71-d366fbed957a"
      },
      "source": [
        "#leap year\n",
        "year=int(input(\"Enter year : \"))\n",
        "if (year%4==0): \n",
        "    if year%100==0:\n",
        "        if(year%400==0):\n",
        "            print(\"Leap year\")\n",
        "        else:\n",
        "            print(\"Not a leap year\")\n",
        "    else: \n",
        "        print(\"Leap year\")\n",
        "else:\n",
        "  print(\"Not a leap year\")"
      ],
      "execution_count": 62,
      "outputs": [
        {
          "output_type": "stream",
          "text": [
            "Enter year : 2020\n",
            "Leap year\n"
          ],
          "name": "stdout"
        }
      ]
    },
    {
      "cell_type": "code",
      "metadata": {
        "id": "VzMuB-rmdtrg",
        "colab_type": "code",
        "colab": {}
      },
      "source": [
        "2"
      ],
      "execution_count": 0,
      "outputs": []
    }
  ]
}