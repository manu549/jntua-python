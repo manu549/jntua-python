{
  "nbformat": 4,
  "nbformat_minor": 0,
  "metadata": {
    "colab": {
      "name": "Day10(31-01-2020).ipynb",
      "provenance": [],
      "collapsed_sections": [],
      "authorship_tag": "ABX9TyOIvLXW0hVknDk+Wn37K/bM",
      "include_colab_link": true
    },
    "kernelspec": {
      "name": "python3",
      "display_name": "Python 3"
    }
  },
  "cells": [
    {
      "cell_type": "markdown",
      "metadata": {
        "id": "view-in-github",
        "colab_type": "text"
      },
      "source": [
        "<a href=\"https://colab.research.google.com/github/manu549/jntua-python/blob/master/Day10(31_01_2020).ipynb\" target=\"_parent\"><img src=\"https://colab.research.google.com/assets/colab-badge.svg\" alt=\"Open In Colab\"/></a>"
      ]
    },
    {
      "cell_type": "code",
      "metadata": {
        "id": "V44c9KEJxnH6",
        "colab_type": "code",
        "colab": {}
      },
      "source": [
        ""
      ],
      "execution_count": 0,
      "outputs": []
    },
    {
      "cell_type": "markdown",
      "metadata": {
        "id": "owHXPwChxnyq",
        "colab_type": "text"
      },
      "source": [
        "#Loops\n",
        "* While loop\n",
        "* For loop"
      ]
    },
    {
      "cell_type": "code",
      "metadata": {
        "id": "hkGSPPK9xtka",
        "colab_type": "code",
        "colab": {
          "base_uri": "https://localhost:8080/",
          "height": 228
        },
        "outputId": "d7f79153-85a3-4c5a-9827-c24d6bc328ec"
      },
      "source": [
        "#print numbers from 1 to n\n",
        "#input 10\n",
        "#output 1 2 .... 10\n",
        "n=int(input(\"Enter number : \"))\n",
        "i=1\n",
        "while(i<=n):\n",
        "  print(i,end=\"\\n \") # end=\"\" --> For printing in a single line\n",
        "  i=i+1"
      ],
      "execution_count": 4,
      "outputs": [
        {
          "output_type": "stream",
          "text": [
            "Enter number : 10\n",
            "1\n",
            " 2\n",
            " 3\n",
            " 4\n",
            " 5\n",
            " 6\n",
            " 7\n",
            " 8\n",
            " 9\n",
            " 10\n",
            " "
          ],
          "name": "stdout"
        }
      ]
    },
    {
      "cell_type": "code",
      "metadata": {
        "id": "MWlIik_KyXDs",
        "colab_type": "code",
        "colab": {
          "base_uri": "https://localhost:8080/",
          "height": 52
        },
        "outputId": "9083770a-f5bc-4109-ffda-133f25f6aae5"
      },
      "source": [
        "#print sum of even numbers\n",
        "n=int(input(\"Enter number : \"))\n",
        "i=1\n",
        "sum1=0\n",
        "while(i<=n):\n",
        "  if(i%2==0):\n",
        "    if(i!=n):\n",
        "      print(i,end=\"+\")\n",
        "      sum1=sum1+i\n",
        "    else:\n",
        "      print(i,end=\"\")\n",
        "      sum1=sum1+i\n",
        "\n",
        "  i=i+1\n",
        "print(\"=\",sum1)"
      ],
      "execution_count": 13,
      "outputs": [
        {
          "output_type": "stream",
          "text": [
            "Enter number : 10\n",
            "2+4+6+8+10= 30\n"
          ],
          "name": "stdout"
        }
      ]
    },
    {
      "cell_type": "code",
      "metadata": {
        "id": "63ONNBN4z8Fa",
        "colab_type": "code",
        "colab": {
          "base_uri": "https://localhost:8080/",
          "height": 52
        },
        "outputId": "2d443ef1-c48a-499b-d05f-13d69c9c29de"
      },
      "source": [
        "#palindrome\n",
        "n=int(input(\"Enter number :\"))\n",
        "temp=n\n",
        "last=0\n",
        "rev=0\n",
        "while(n>0):\n",
        "  last=n%10\n",
        "  rev=rev*10+last\n",
        "  n=n//10\n",
        "if(temp==rev):\n",
        "  print(rev,\"is a palindrome\")\n",
        "else:\n",
        "  print(rev,\"is not a palindrome\")\n"
      ],
      "execution_count": 20,
      "outputs": [
        {
          "output_type": "stream",
          "text": [
            "Enter number :123\n",
            "321 is not a palindrome\n"
          ],
          "name": "stdout"
        }
      ]
    },
    {
      "cell_type": "code",
      "metadata": {
        "id": "och73uGp3BxY",
        "colab_type": "code",
        "colab": {}
      },
      "source": [
        ""
      ],
      "execution_count": 0,
      "outputs": []
    },
    {
      "cell_type": "markdown",
      "metadata": {
        "id": "JlIvcvkp9Big",
        "colab_type": "text"
      },
      "source": [
        "#Functional Programming\n",
        "- simple\n",
        "- easy to understand\n",
        "- better reusability\n",
        "- lengthy program will be divided into sub-programs\n",
        "\n"
      ]
    },
    {
      "cell_type": "code",
      "metadata": {
        "id": "XYBwfNij-DN6",
        "colab_type": "code",
        "colab": {}
      },
      "source": [
        "def nameOfTheFunction(<parameters>):\n",
        "  statements\n",
        "  return\n"
      ],
      "execution_count": 0,
      "outputs": []
    },
    {
      "cell_type": "code",
      "metadata": {
        "id": "BLbvlYRW-EXf",
        "colab_type": "code",
        "colab": {
          "base_uri": "https://localhost:8080/",
          "height": 34
        },
        "outputId": "77165e14-d5e9-431b-8caf-36f440efab20"
      },
      "source": [
        "#sum of even digits using functions\n",
        "#input=1234\n",
        "#output=2+4=6\n",
        "def sumOfEven(n):\n",
        "  sum=0\n",
        "  while n!=0:\n",
        "    last=n%10\n",
        "    if(last%2==0):\n",
        "      \n",
        "      sum=sum+last\n",
        "    n=n//10\n",
        "  return sum\n",
        "sumOfEven(1234)\n",
        "\n"
      ],
      "execution_count": 22,
      "outputs": [
        {
          "output_type": "execute_result",
          "data": {
            "text/plain": [
              "6"
            ]
          },
          "metadata": {
            "tags": []
          },
          "execution_count": 22
        }
      ]
    },
    {
      "cell_type": "code",
      "metadata": {
        "id": "rVjzjk2DCrTO",
        "colab_type": "code",
        "colab": {}
      },
      "source": [
        "#greatest digit in number\n",
        "def great(a,b):\n",
        "  if(a>b):\n",
        "    return a\n",
        "  else:\n",
        "    return b\n",
        "    \n",
        "\n",
        "n=97625\n",
        "first=0\n",
        "while n!=0:\n",
        "  n=n%10\n",
        "  great(first,last)\n"
      ],
      "execution_count": 0,
      "outputs": []
    },
    {
      "cell_type": "markdown",
      "metadata": {
        "id": "gQt08J9gIaSF",
        "colab_type": "text"
      },
      "source": [
        "#For loop\n"
      ]
    },
    {
      "cell_type": "code",
      "metadata": {
        "id": "lNNowINgI0VO",
        "colab_type": "code",
        "colab": {}
      },
      "source": [
        "for i in range(start,stop,step):\n",
        "  statements"
      ],
      "execution_count": 0,
      "outputs": []
    },
    {
      "cell_type": "code",
      "metadata": {
        "id": "4WQIM5Yh97Xs",
        "colab_type": "code",
        "colab": {
          "base_uri": "https://localhost:8080/",
          "height": 34
        },
        "outputId": "a78feae2-acce-4e25-d581-6aaa02bdc112"
      },
      "source": [
        "#print the numbers between limits using functions\n",
        "#input = 11 25\n",
        "#output=11,12,....25\n",
        "def s(a,b):\n",
        "  for i in range(a,b+1):\n",
        "    print(i,end=\" \")\n",
        "  return\n",
        "s(11,25)\n"
      ],
      "execution_count": 28,
      "outputs": [
        {
          "output_type": "stream",
          "text": [
            "11 12 13 14 15 16 17 18 19 20 21 22 23 24 25 "
          ],
          "name": "stdout"
        }
      ]
    },
    {
      "cell_type": "code",
      "metadata": {
        "id": "Y7upKVtr9qzr",
        "colab_type": "code",
        "colab": {
          "base_uri": "https://localhost:8080/",
          "height": 34
        },
        "outputId": "09778cce-df37-41b2-e55b-4c05d22b0a19"
      },
      "source": [
        "def large(n):\n",
        "  first=0\n",
        "  last=0\n",
        "  great=0\n",
        "  while(n!=0):\n",
        "    last=n%10\n",
        "    if(great<last):\n",
        "      great=last\n",
        "    n=n//10\n",
        "  return great\n",
        "large(76539)"
      ],
      "execution_count": 27,
      "outputs": [
        {
          "output_type": "execute_result",
          "data": {
            "text/plain": [
              "9"
            ]
          },
          "metadata": {
            "tags": []
          },
          "execution_count": 27
        }
      ]
    },
    {
      "cell_type": "code",
      "metadata": {
        "id": "rZ4hf0_WKc0B",
        "colab_type": "code",
        "colab": {
          "base_uri": "https://localhost:8080/",
          "height": 34
        },
        "outputId": "aea6e58b-e8dd-4022-ff61-e48bb58fb79b"
      },
      "source": [
        "#input=500,520\n",
        "#output=500,504,508,......520\n",
        "def series(a,b):\n",
        "  for i in range(a,b+1,4):\n",
        "    print(i,end=\" \")\n",
        "  return\n",
        "series(500,520)"
      ],
      "execution_count": 30,
      "outputs": [
        {
          "output_type": "stream",
          "text": [
            "500 504 508 512 516 520 "
          ],
          "name": "stdout"
        }
      ]
    },
    {
      "cell_type": "code",
      "metadata": {
        "id": "LWoC0RlcLWXI",
        "colab_type": "code",
        "colab": {
          "base_uri": "https://localhost:8080/",
          "height": 34
        },
        "outputId": "d205582d-c9cc-42d2-92b9-59f5b2a0b964"
      },
      "source": [
        ""
      ],
      "execution_count": 31,
      "outputs": [
        {
          "output_type": "stream",
          "text": [
            "500 "
          ],
          "name": "stdout"
        }
      ]
    },
    {
      "cell_type": "markdown",
      "metadata": {
        "id": "nbSBwQ5hMsEn",
        "colab_type": "text"
      },
      "source": [
        "#Collection types:\n",
        "\n",
        "---\n",
        "\n",
        "\n",
        "* List\n",
        "- Tuple\n",
        "* Dictionary\n",
        "\n",
        "---\n",
        "\n",
        "\n",
        "\n",
        "#List :\n",
        "\n",
        "\n",
        "---\n",
        "\n",
        "\n",
        "- One of the data structure in python\n",
        "- Data structure means to store,sort and search options\n",
        "- It's one common data structure in python.\n",
        "- The items of list are separated by comma and enclosed by square brackets\n",
        "- List is mutable i.e values can be change\n",
        "- List has two types of indices.\n",
        "  * Positive index:\n",
        "     * List index starts with 0\n",
        "  * Negative index:\n",
        "     * Starts from end of the list with -1\n",
        "- Eg:\n",
        "    list1 =[1,2,3,4,5]\n"
      ]
    },
    {
      "cell_type": "code",
      "metadata": {
        "id": "XJ5bTCMgO1Cr",
        "colab_type": "code",
        "colab": {
          "base_uri": "https://localhost:8080/",
          "height": 228
        },
        "outputId": "544154a8-a5b9-4a38-8f98-490f9b900663"
      },
      "source": [
        "list = [1,2,3,4,5]\n",
        "print(list[0],end=\" \")\n",
        "print(list[1],end=\" \")\n",
        "print(list[2],end=\" \")\n",
        "print(list[3],end=\" \")\n",
        "print(list[4])\n",
        "print(list[-1],end=\" \")\n",
        "print(list[-2],end=\" \")\n",
        "print(list[-3],end=\" \")\n",
        "print(list[-4],end=\" \")\n",
        "print(list[-5])\n",
        "print(list[:])\n",
        "print(list[2:])\n",
        "print(list[:2])\n",
        "print(list[2:4])\n",
        "print(list[-3:-1])\n",
        "print(list[::1])\n",
        "print(list[::2])\n",
        "print(list[::3])\n",
        "print(list[::4])\n",
        "print(list[::5])\n",
        "\n"
      ],
      "execution_count": 43,
      "outputs": [
        {
          "output_type": "stream",
          "text": [
            "1 2 3 4 5\n",
            "5 4 3 2 1\n",
            "[1, 2, 3, 4, 5]\n",
            "[3, 4, 5]\n",
            "[1, 2]\n",
            "[3, 4]\n",
            "[3, 4]\n",
            "[1, 2, 3, 4, 5]\n",
            "[1, 3, 5]\n",
            "[1, 4]\n",
            "[1, 5]\n",
            "[1]\n"
          ],
          "name": "stdout"
        }
      ]
    },
    {
      "cell_type": "code",
      "metadata": {
        "id": "xYl626pjSgKP",
        "colab_type": "code",
        "colab": {
          "base_uri": "https://localhost:8080/",
          "height": 87
        },
        "outputId": "3dc2707d-8a0e-4a24-8c4d-250777259222"
      },
      "source": [
        "list=[\"jntua\",5,\"python\",6,9]\n",
        "print(list)\n",
        "\n",
        "# update\n",
        "list[1]=100\n",
        "print(list)\n",
        "list[3]=''\n",
        "print(list)\n",
        "\n",
        "#delete the list item\n",
        "del list[2]\n",
        "print(list)"
      ],
      "execution_count": 47,
      "outputs": [
        {
          "output_type": "stream",
          "text": [
            "['jntua', 5, 'python', 6, 9]\n",
            "['jntua', 100, 'python', 6, 9]\n",
            "['jntua', 100, 'python', '', 9]\n",
            "['jntua', 100, '', 9]\n"
          ],
          "name": "stdout"
        }
      ]
    },
    {
      "cell_type": "markdown",
      "metadata": {
        "id": "4fsOXQEJdKI4",
        "colab_type": "text"
      },
      "source": [
        "#Basic list operations\n",
        "\n",
        "---\n",
        "\n"
      ]
    },
    {
      "cell_type": "code",
      "metadata": {
        "id": "32vABe1xdP_L",
        "colab_type": "code",
        "colab": {
          "base_uri": "https://localhost:8080/",
          "height": 87
        },
        "outputId": "b2783e72-aeb8-4f79-e647-132460dd48b1"
      },
      "source": [
        "list=[1,2,3,4,5]\n",
        "\n",
        "#Length of the list\n",
        "print(len(list))\n",
        "\n",
        "#List appears two times\n",
        "print(list*2)\n",
        "\n",
        "#checks item in list is there or not\n",
        "print(4 in list)\n",
        "print(9 in list)\n"
      ],
      "execution_count": 53,
      "outputs": [
        {
          "output_type": "stream",
          "text": [
            "5\n",
            "[1, 2, 3, 4, 5, 1, 2, 3, 4, 5]\n",
            "True\n",
            "False\n"
          ],
          "name": "stdout"
        }
      ]
    },
    {
      "cell_type": "markdown",
      "metadata": {
        "id": "dPL4CdxUd-KT",
        "colab_type": "text"
      },
      "source": [
        "\n",
        "\n",
        "---\n",
        "\n",
        "\n",
        "#List functions\n",
        "\n",
        "---\n",
        "\n",
        "\n",
        "- max\n",
        "- min\n",
        "- sum\n",
        "- append\n",
        "- insert -->  list.insert(index,item)\n",
        "- count\n",
        "- index\n",
        "- sort\n",
        "- pop"
      ]
    },
    {
      "cell_type": "code",
      "metadata": {
        "id": "HAmoLC20bn_i",
        "colab_type": "code",
        "colab": {
          "base_uri": "https://localhost:8080/",
          "height": 210
        },
        "outputId": "e6543be8-a50c-4f65-d0a6-389abbe120ae"
      },
      "source": [
        "list=[5,3,6,2,9]\n",
        "\n",
        "# maximun item in list\n",
        "print(max(list))\n",
        "\n",
        "# minimum item in list\n",
        "print(min(list))\n",
        "\n",
        "# sum of the items in the list\n",
        "print(sum(list))\n",
        "\n",
        "# Average of the items in the list\n",
        "print(sum(list)/len(list))\n",
        "\n",
        "#Appending item to end of the list\n",
        "list.append(56)\n",
        "print(list)\n",
        "\n",
        "# inserting item \n",
        "list.insert(1,5)\n",
        "print(list)\n",
        "\n",
        "# count --> How many times the item appears\n",
        "print(list.count(5))\n",
        "\n",
        "# index --> We get the index of the given item\n",
        "print(list.index(5))\n",
        "\n",
        "# sort --> arranges in increasing order\n",
        "list.sort()\n",
        "print(list)\n",
        "\n",
        "# pop --> defaultly deletes last index item and deletes given item\n",
        "list.pop()\n",
        "print(list)\n",
        "list.pop(2)\n",
        "print(list)"
      ],
      "execution_count": 75,
      "outputs": [
        {
          "output_type": "stream",
          "text": [
            "9\n",
            "2\n",
            "25\n",
            "5.0\n",
            "[5, 3, 6, 2, 9, 56]\n",
            "[5, 5, 3, 6, 2, 9, 56]\n",
            "2\n",
            "0\n",
            "[2, 3, 5, 5, 6, 9, 56]\n",
            "[2, 3, 5, 5, 6, 9]\n",
            "[2, 3, 5, 6, 9]\n"
          ],
          "name": "stdout"
        }
      ]
    },
    {
      "cell_type": "code",
      "metadata": {
        "id": "QjtwjqaNel4M",
        "colab_type": "code",
        "colab": {
          "base_uri": "https://localhost:8080/",
          "height": 52
        },
        "outputId": "16447059-5f4c-4bdb-e883-81dbf4d1eed3"
      },
      "source": [
        "# Using functions return large number from the list\n",
        "def largeNumber(li):\n",
        "  li.sort()\n",
        "  return li,li[-1]\n",
        "   \n",
        "def genericLarge(li,n):\n",
        "  li.sort()\n",
        "  return li[-n]\n",
        "list=[13,12,35,78,2,74,43]\n",
        "print(largeNumber(list))\n",
        "print(genericLarge(list,3))"
      ],
      "execution_count": 82,
      "outputs": [
        {
          "output_type": "stream",
          "text": [
            "([2, 12, 13, 35, 43, 74, 78], 78)\n",
            "43\n"
          ],
          "name": "stdout"
        }
      ]
    },
    {
      "cell_type": "code",
      "metadata": {
        "id": "k6tX2N28kmx_",
        "colab_type": "code",
        "colab": {
          "base_uri": "https://localhost:8080/",
          "height": 52
        },
        "outputId": "d0626e41-c291-4605-ec72-ff48546a33e4"
      },
      "source": [
        "# Using functions return small number from the list\n",
        "def small(li):\n",
        "  li.sort()\n",
        "  return li,li[0]\n",
        "   \n",
        "def genericSmall(li,n):\n",
        "  li.sort()\n",
        "  return li[n-1]\n",
        "list=[13,12,35,78,2,74,43]\n",
        "print(small(list))\n",
        "print(genericSmall(list,2))"
      ],
      "execution_count": 86,
      "outputs": [
        {
          "output_type": "stream",
          "text": [
            "([2, 12, 13, 35, 43, 74, 78], 2)\n",
            "12\n"
          ],
          "name": "stdout"
        }
      ]
    },
    {
      "cell_type": "markdown",
      "metadata": {
        "id": "TYfFQdLpnHjq",
        "colab_type": "text"
      },
      "source": [
        "\n",
        "\n",
        "---\n",
        "#Tuples :\n",
        "- paranthesis..()   -->  \n",
        "\n",
        "\n",
        "\n",
        "\n"
      ]
    },
    {
      "cell_type": "code",
      "metadata": {
        "id": "g-u1BAuQlb29",
        "colab_type": "code",
        "colab": {}
      },
      "source": [
        ""
      ],
      "execution_count": 0,
      "outputs": []
    }
  ]
}